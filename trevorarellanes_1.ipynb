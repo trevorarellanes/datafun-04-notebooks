{
 "cells": [
  {
   "attachments": {},
   "cell_type": "markdown",
   "id": "e2725360-1814-483f-8361-5dc851ae32ee",
   "metadata": {
    "tags": []
   },
   "source": [
    "# Trevor Arellanes's Module 4 Project\n",
    "### 2/4/2023\n",
    "### Domain: Golf"
   ]
  },
  {
   "cell_type": "markdown",
   "id": "c63ee7cb-ea2f-4b91-8425-9baadc242496",
   "metadata": {},
   "source": [
    "## Task 1 - Series"
   ]
  },
  {
   "cell_type": "code",
   "execution_count": null,
   "id": "7c4ad6e4-506c-4389-b152-3366f5470578",
   "metadata": {},
   "outputs": [],
   "source": [
    "import pandas as pd # adding libary to complete assignment"
   ]
  },
  {
   "cell_type": "code",
   "execution_count": 103,
   "id": "56f1a0b1-523b-4e98-b5a9-b1f33e030ee6",
   "metadata": {
    "tags": []
   },
   "outputs": [
    {
     "data": {
      "text/plain": [
       "0     87\n",
       "1     89\n",
       "2     92\n",
       "3     77\n",
       "4     83\n",
       "5     89\n",
       "6     96\n",
       "7     97\n",
       "8     91\n",
       "9    100\n",
       "dtype: int64"
      ]
     },
     "execution_count": 103,
     "metadata": {},
     "output_type": "execute_result"
    }
   ],
   "source": [
    "grades = pd.Series([87, 89, 92, 77, 83, 89, 96, 97, 91, 100])\n",
    "grades\n",
    "# assigning the variable gardes to a series "
   ]
  },
  {
   "cell_type": "code",
   "execution_count": 104,
   "id": "958bc722-8bcd-4efe-aeb0-370a5f944e1b",
   "metadata": {},
   "outputs": [
    {
     "data": {
      "text/plain": [
       "87"
      ]
     },
     "execution_count": 104,
     "metadata": {},
     "output_type": "execute_result"
    }
   ],
   "source": [
    "grades[0] # calling first item in series"
   ]
  },
  {
   "cell_type": "code",
   "execution_count": 105,
   "id": "1adf1ae6-fab0-41b4-a92a-ad2b790c54d7",
   "metadata": {},
   "outputs": [
    {
     "data": {
      "text/plain": [
       "10"
      ]
     },
     "execution_count": 105,
     "metadata": {},
     "output_type": "execute_result"
    }
   ],
   "source": [
    "grades.count() # count function executed "
   ]
  },
  {
   "cell_type": "code",
   "execution_count": 106,
   "id": "9d08bb7d-9433-4353-add5-8c2b49f8e7e5",
   "metadata": {},
   "outputs": [
    {
     "data": {
      "text/plain": [
       "90.1"
      ]
     },
     "execution_count": 106,
     "metadata": {},
     "output_type": "execute_result"
    }
   ],
   "source": [
    "grades.mean() # mean of series data"
   ]
  },
  {
   "cell_type": "code",
   "execution_count": 107,
   "id": "ad0b4923-ad49-41e4-9b23-0520e8f4bf9f",
   "metadata": {},
   "outputs": [
    {
     "data": {
      "text/plain": [
       "77"
      ]
     },
     "execution_count": 107,
     "metadata": {},
     "output_type": "execute_result"
    }
   ],
   "source": [
    "grades.min()# returns min of sereis data"
   ]
  },
  {
   "cell_type": "code",
   "execution_count": 108,
   "id": "cf8af479-fa42-4e0f-adec-504e3cbb31b6",
   "metadata": {},
   "outputs": [
    {
     "data": {
      "text/plain": [
       "100"
      ]
     },
     "execution_count": 108,
     "metadata": {},
     "output_type": "execute_result"
    }
   ],
   "source": [
    "grades.max() # returns max of series data"
   ]
  },
  {
   "cell_type": "code",
   "execution_count": 109,
   "id": "21f8283a-d611-499b-81c4-8eae2fa6dbb5",
   "metadata": {},
   "outputs": [
    {
     "data": {
      "text/plain": [
       "6.822348894951389"
      ]
     },
     "execution_count": 109,
     "metadata": {},
     "output_type": "execute_result"
    }
   ],
   "source": [
    "grades.std() # returns standard deviation of data series"
   ]
  },
  {
   "cell_type": "code",
   "execution_count": 110,
   "id": "79c6de32-86df-4c8b-8834-306f72842e29",
   "metadata": {},
   "outputs": [
    {
     "data": {
      "text/plain": [
       "6.82"
      ]
     },
     "execution_count": 110,
     "metadata": {},
     "output_type": "execute_result"
    }
   ],
   "source": [
    "round(grades.std(), 2) # rounds results of standard deviation data series\n",
    "# to hundredths place"
   ]
  },
  {
   "cell_type": "code",
   "execution_count": 111,
   "id": "60bf06ad-88e7-46b7-bbea-65b5d448787d",
   "metadata": {},
   "outputs": [
    {
     "data": {
      "text/plain": [
       "count     10.000000\n",
       "mean      90.100000\n",
       "std        6.822349\n",
       "min       77.000000\n",
       "25%       87.500000\n",
       "50%       90.000000\n",
       "75%       95.000000\n",
       "max      100.000000\n",
       "dtype: float64"
      ]
     },
     "execution_count": 111,
     "metadata": {},
     "output_type": "execute_result"
    }
   ],
   "source": [
    "grades.describe() # describe function being executed"
   ]
  },
  {
   "cell_type": "markdown",
   "id": "0f9d82f2-5f14-4971-bcf7-ca336fd3996c",
   "metadata": {},
   "source": [
    "## Task 2 - Series from Dictionary"
   ]
  },
  {
   "cell_type": "code",
   "execution_count": 112,
   "id": "22976372-9e48-442a-ab29-c4161724ff22",
   "metadata": {},
   "outputs": [],
   "source": [
    "grades = pd.Series({'John' : 92, 'Martin' : 88, 'Rachel' : 99, 'Sarah' : 93}) \n",
    "# creating series from dictionary"
   ]
  },
  {
   "cell_type": "code",
   "execution_count": 113,
   "id": "a49b9654-36cd-4d28-b956-6c6c523f1b24",
   "metadata": {},
   "outputs": [
    {
     "data": {
      "text/plain": [
       "John      92\n",
       "Martin    88\n",
       "Rachel    99\n",
       "Sarah     93\n",
       "dtype: int64"
      ]
     },
     "execution_count": 113,
     "metadata": {},
     "output_type": "execute_result"
    }
   ],
   "source": [
    "grades # output of grades variable"
   ]
  },
  {
   "cell_type": "code",
   "execution_count": 114,
   "id": "feb93808-6279-4977-8c09-1c6f47312e12",
   "metadata": {},
   "outputs": [
    {
     "data": {
      "text/plain": [
       "93"
      ]
     },
     "execution_count": 114,
     "metadata": {},
     "output_type": "execute_result"
    }
   ],
   "source": [
    "grades['Sarah'] # calls grades for specific individual Sarah"
   ]
  },
  {
   "cell_type": "code",
   "execution_count": 115,
   "id": "08d91451-7d62-4500-a5ea-d0e039667b32",
   "metadata": {},
   "outputs": [
    {
     "data": {
      "text/plain": [
       "88"
      ]
     },
     "execution_count": 115,
     "metadata": {},
     "output_type": "execute_result"
    }
   ],
   "source": [
    "grades.Martin # calls grades for Martin"
   ]
  },
  {
   "cell_type": "code",
   "execution_count": 116,
   "id": "67a0bfb9-4310-44a5-8ac4-480660455a17",
   "metadata": {},
   "outputs": [
    {
     "data": {
      "text/plain": [
       "array([92, 88, 99, 93], dtype=int64)"
      ]
     },
     "execution_count": 116,
     "metadata": {},
     "output_type": "execute_result"
    }
   ],
   "source": [
    "grades.values "
   ]
  },
  {
   "cell_type": "code",
   "execution_count": 117,
   "id": "c4696ead-6ed6-48cb-99ea-ed0c72f44ecc",
   "metadata": {},
   "outputs": [],
   "source": [
    "import numpy as np\n",
    "\n",
    "import pandas as pd\n",
    "\n",
    "scores = np.random.randint(0, 15, 10) # generate random int \n",
    "\n",
    "scores_1 = pd.Series(scores) # produces result of variable "
   ]
  },
  {
   "cell_type": "code",
   "execution_count": 118,
   "id": "298d8fb4-a58e-46b6-a01e-d09a60239220",
   "metadata": {},
   "outputs": [
    {
     "data": {
      "text/plain": [
       "0    14\n",
       "1     4\n",
       "2     4\n",
       "3     1\n",
       "4     8\n",
       "5     2\n",
       "6     0\n",
       "7     8\n",
       "8    14\n",
       "9    12\n",
       "dtype: int32"
      ]
     },
     "execution_count": 118,
     "metadata": {},
     "output_type": "execute_result"
    }
   ],
   "source": [
    "scores_1"
   ]
  },
  {
   "cell_type": "code",
   "execution_count": 119,
   "id": "5fa0184b-eb8a-485f-8406-a795f608438f",
   "metadata": {},
   "outputs": [
    {
     "data": {
      "text/plain": [
       "0"
      ]
     },
     "execution_count": 119,
     "metadata": {},
     "output_type": "execute_result"
    }
   ],
   "source": [
    "scores_1.min()"
   ]
  },
  {
   "cell_type": "code",
   "execution_count": 120,
   "id": "685a81b3-848a-4e1f-a676-a3c7e3d40358",
   "metadata": {},
   "outputs": [
    {
     "data": {
      "text/plain": [
       "14"
      ]
     },
     "execution_count": 120,
     "metadata": {},
     "output_type": "execute_result"
    }
   ],
   "source": [
    "scores_1.max()"
   ]
  },
  {
   "cell_type": "code",
   "execution_count": 121,
   "id": "6a5e6d28-ea86-439c-9941-d8fc6152aae6",
   "metadata": {},
   "outputs": [
    {
     "data": {
      "text/plain": [
       "6.7"
      ]
     },
     "execution_count": 121,
     "metadata": {},
     "output_type": "execute_result"
    }
   ],
   "source": [
    "scores_1.mean()"
   ]
  },
  {
   "cell_type": "code",
   "execution_count": 122,
   "id": "44633e83-ffab-4520-9656-ae506a946897",
   "metadata": {},
   "outputs": [
    {
     "data": {
      "text/plain": [
       "count    10.000000\n",
       "mean      6.700000\n",
       "std       5.292552\n",
       "min       0.000000\n",
       "25%       2.500000\n",
       "50%       6.000000\n",
       "75%      11.000000\n",
       "max      14.000000\n",
       "dtype: float64"
      ]
     },
     "execution_count": 122,
     "metadata": {},
     "output_type": "execute_result"
    }
   ],
   "source": [
    "scores_1.describe()"
   ]
  }
 ],
 "metadata": {
  "kernelspec": {
   "display_name": "base",
   "language": "python",
   "name": "python3"
  },
  "language_info": {
   "codemirror_mode": {
    "name": "ipython",
    "version": 3
   },
   "file_extension": ".py",
   "mimetype": "text/x-python",
   "name": "python",
   "nbconvert_exporter": "python",
   "pygments_lexer": "ipython3",
   "version": "3.10.8"
  },
  "vscode": {
   "interpreter": {
    "hash": "6ea5753a177ac3630209d6f05bdb1a6cb3459fe2daf9f1407865005fa67910fc"
   }
  }
 },
 "nbformat": 4,
 "nbformat_minor": 5
}
